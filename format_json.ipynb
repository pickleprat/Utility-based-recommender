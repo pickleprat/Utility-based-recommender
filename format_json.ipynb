{
 "cells": [
  {
   "cell_type": "code",
   "execution_count": 1,
   "metadata": {},
   "outputs": [],
   "source": [
    "import pandas as pd \n",
    "import json \n",
    "import numpy as np "
   ]
  },
  {
   "cell_type": "code",
   "execution_count": 7,
   "metadata": {},
   "outputs": [],
   "source": [
    "json_object = open('./ds/allreviews.json', 'rb')\n",
    "reviews = json.load(json_object)\n",
    "json_object.close()"
   ]
  },
  {
   "cell_type": "code",
   "execution_count": 20,
   "metadata": {},
   "outputs": [],
   "source": [
    "dfs = []\n",
    "for info in reviews: \n",
    "    n = len(info['reviews']) \n",
    "    status_len = len(info['time.status'])\n",
    "\n",
    "    \n",
    "    df = {\n",
    "        'place':[info['place']]*n, \n",
    "        'reviews': info['reviews'], \n",
    "        'place_rating':[info['rating']]*n, \n",
    "    }\n",
    "\n",
    "    dfs.append(pd.DataFrame(df)) \n"
   ]
  },
  {
   "cell_type": "code",
   "execution_count": 18,
   "metadata": {},
   "outputs": [],
   "source": [
    "articles = {\n",
    "    4527:'How soon do effects start after shingrix ? ', \n",
    "    5111:'The murder of the grim sisters. ', \n",
    "    3338:'What to wear to a funeral ? ', \n",
    "}"
   ]
  },
  {
   "cell_type": "code",
   "execution_count": 23,
   "metadata": {},
   "outputs": [],
   "source": [
    "df = pd.concat(dfs)"
   ]
  },
  {
   "cell_type": "code",
   "execution_count": 37,
   "metadata": {},
   "outputs": [
    {
     "data": {
      "text/plain": [
       "array(['Jehangir Art Gallery', 'Gorai Beach', 'Madh Island',\n",
       "       'Kalamb Beach', 'Marve Beach', 'Versova Beach', 'Aksa Beach',\n",
       "       'Worli Sea Face'], dtype=object)"
      ]
     },
     "execution_count": 37,
     "metadata": {},
     "output_type": "execute_result"
    }
   ],
   "source": [
    "places = pd.read_csv(r'C:\\Users\\hp\\OneDrive\\Desktop\\Projects\\place-recommendation\\travel_recommender\\ds\\places.csv')\n",
    "data = pd.merge(\n",
    "    left = df, \n",
    "    right = places, \n",
    "    left_on = 'place', \n",
    "    right_on = 'place', \n",
    "    how = 'inner'\n",
    ")\n"
   ]
  },
  {
   "cell_type": "code",
   "execution_count": 33,
   "metadata": {},
   "outputs": [
    {
     "data": {
      "text/html": [
       "<div>\n",
       "<style scoped>\n",
       "    .dataframe tbody tr th:only-of-type {\n",
       "        vertical-align: middle;\n",
       "    }\n",
       "\n",
       "    .dataframe tbody tr th {\n",
       "        vertical-align: top;\n",
       "    }\n",
       "\n",
       "    .dataframe thead th {\n",
       "        text-align: right;\n",
       "    }\n",
       "</style>\n",
       "<table border=\"1\" class=\"dataframe\">\n",
       "  <thead>\n",
       "    <tr style=\"text-align: right;\">\n",
       "      <th></th>\n",
       "      <th>place</th>\n",
       "      <th>location</th>\n",
       "      <th>description</th>\n",
       "    </tr>\n",
       "  </thead>\n",
       "  <tbody>\n",
       "    <tr>\n",
       "      <th>0</th>\n",
       "      <td>Elephanta Caves</td>\n",
       "      <td>mumbai</td>\n",
       "      <td>An UNESCO World Heritage Site, Elephanta Cave...</td>\n",
       "    </tr>\n",
       "    <tr>\n",
       "      <th>1</th>\n",
       "      <td>Marine Drive, Mumbai</td>\n",
       "      <td>mumbai</td>\n",
       "      <td>Starting from the north of Nariman Point and ...</td>\n",
       "    </tr>\n",
       "    <tr>\n",
       "      <th>2</th>\n",
       "      <td>Juhu Beach</td>\n",
       "      <td>mumbai</td>\n",
       "      <td>The most popular beach in Mumbai, Juhu beach ...</td>\n",
       "    </tr>\n",
       "    <tr>\n",
       "      <th>3</th>\n",
       "      <td>Colaba Causeway</td>\n",
       "      <td>mumbai</td>\n",
       "      <td>One of the most crowded and electrifying plac...</td>\n",
       "    </tr>\n",
       "    <tr>\n",
       "      <th>4</th>\n",
       "      <td>Gateway of India</td>\n",
       "      <td>mumbai</td>\n",
       "      <td>One of the most distinguished monument in Mum...</td>\n",
       "    </tr>\n",
       "    <tr>\n",
       "      <th>...</th>\n",
       "      <td>...</td>\n",
       "      <td>...</td>\n",
       "      <td>...</td>\n",
       "    </tr>\n",
       "    <tr>\n",
       "      <th>3210</th>\n",
       "      <td>Yak Safari</td>\n",
       "      <td>gangtok</td>\n",
       "      <td>Experiencing Yak Ride is one of the most esse...</td>\n",
       "    </tr>\n",
       "    <tr>\n",
       "      <th>3211</th>\n",
       "      <td>Mountain Biking in Gangtok</td>\n",
       "      <td>gangtok</td>\n",
       "      <td>Another one of the thrilling activities and t...</td>\n",
       "    </tr>\n",
       "    <tr>\n",
       "      <th>3212</th>\n",
       "      <td>9’ine Native Cuisine</td>\n",
       "      <td>gangtok</td>\n",
       "      <td>9’ine Native Cuisine is a dainty cafe located...</td>\n",
       "    </tr>\n",
       "    <tr>\n",
       "      <th>3213</th>\n",
       "      <td>Baker's Cafe</td>\n",
       "      <td>gangtok</td>\n",
       "      <td>Baker's Cafe is one of the most popular and p...</td>\n",
       "    </tr>\n",
       "    <tr>\n",
       "      <th>3214</th>\n",
       "      <td>Phodong Monastery</td>\n",
       "      <td>gangtok</td>\n",
       "      <td>Located in Phodong near Gangtok in Sikkim, Ph...</td>\n",
       "    </tr>\n",
       "  </tbody>\n",
       "</table>\n",
       "<p>3215 rows × 3 columns</p>\n",
       "</div>"
      ],
      "text/plain": [
       "                           place location  \\\n",
       "0                Elephanta Caves   mumbai   \n",
       "1           Marine Drive, Mumbai   mumbai   \n",
       "2                     Juhu Beach   mumbai   \n",
       "3                Colaba Causeway   mumbai   \n",
       "4               Gateway of India   mumbai   \n",
       "...                          ...      ...   \n",
       "3210                  Yak Safari  gangtok   \n",
       "3211  Mountain Biking in Gangtok  gangtok   \n",
       "3212        9’ine Native Cuisine  gangtok   \n",
       "3213                Baker's Cafe  gangtok   \n",
       "3214           Phodong Monastery  gangtok   \n",
       "\n",
       "                                            description  \n",
       "0      An UNESCO World Heritage Site, Elephanta Cave...  \n",
       "1      Starting from the north of Nariman Point and ...  \n",
       "2      The most popular beach in Mumbai, Juhu beach ...  \n",
       "3      One of the most crowded and electrifying plac...  \n",
       "4      One of the most distinguished monument in Mum...  \n",
       "...                                                 ...  \n",
       "3210   Experiencing Yak Ride is one of the most esse...  \n",
       "3211   Another one of the thrilling activities and t...  \n",
       "3212   9’ine Native Cuisine is a dainty cafe located...  \n",
       "3213   Baker's Cafe is one of the most popular and p...  \n",
       "3214   Located in Phodong near Gangtok in Sikkim, Ph...  \n",
       "\n",
       "[3215 rows x 3 columns]"
      ]
     },
     "execution_count": 33,
     "metadata": {},
     "output_type": "execute_result"
    }
   ],
   "source": []
  },
  {
   "cell_type": "code",
   "execution_count": null,
   "metadata": {},
   "outputs": [],
   "source": []
  }
 ],
 "metadata": {
  "kernelspec": {
   "display_name": "ml",
   "language": "python",
   "name": "python3"
  },
  "language_info": {
   "codemirror_mode": {
    "name": "ipython",
    "version": 3
   },
   "file_extension": ".py",
   "mimetype": "text/x-python",
   "name": "python",
   "nbconvert_exporter": "python",
   "pygments_lexer": "ipython3",
   "version": "3.10.6"
  },
  "orig_nbformat": 4,
  "vscode": {
   "interpreter": {
    "hash": "e8b87ae4c42db886181ac3ad21638493fcabbc26f1c503fef6274c3786d2db86"
   }
  }
 },
 "nbformat": 4,
 "nbformat_minor": 2
}
