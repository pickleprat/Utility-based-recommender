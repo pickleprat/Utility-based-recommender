{
 "cells": [
  {
   "cell_type": "code",
   "execution_count": 16,
   "metadata": {},
   "outputs": [],
   "source": [
    "import pandas as pd \n",
    "from bs4 import BeautifulSoup\n",
    "import numpy as np \n",
    "import requests\n",
    "from googlesearch import search \n"
   ]
  },
  {
   "cell_type": "code",
   "execution_count": 28,
   "metadata": {},
   "outputs": [
    {
     "data": {
      "text/plain": [
       "'[3]'"
      ]
     },
     "execution_count": 28,
     "metadata": {},
     "output_type": "execute_result"
    }
   ],
   "source": [
    "wiki = BeautifulSoup(\n",
    "    requests.get(\n",
    "    'https://en.wikipedia.org/wiki/List_of_cities_in_India_by_population', \n",
    "    ).content\n",
    ")\n",
    "\n",
    "places = []\n",
    "for location in wiki.find('tbody').find_all('tr'):\n",
    "    try:\n",
    "        places.append(location.find('a').text.lower()) \n",
    "    except Exception as e:\n",
    "        pass \n",
    "\n",
    "places.pop(0)"
   ]
  },
  {
   "cell_type": "code",
   "execution_count": 29,
   "metadata": {},
   "outputs": [],
   "source": [
    "data_dict = {\n",
    "    'place': [], \n",
    "    'location':[], \n",
    "    'description':[], \n",
    "}\n",
    "\n",
    "i = 0\n",
    "for city in places:  \n",
    "    URL = f'https://www.holidify.com/places/{city}/sightseeing-and-things-to-do.html'\n",
    "\n",
    "    page = BeautifulSoup(\n",
    "        requests.get(\n",
    "            URL\n",
    "        ).content, 'lxml'\n",
    "    )\n",
    "\n",
    "    for card in page.find_all('div', attrs = {'class':'card content-card'}):\n",
    "        data_dict['place'].append(card.find('h3', attrs = {'class':'card-heading'}).text.split('.')[1].strip()) \n",
    "        data_dict['location'].append(f'{city}')\n",
    "        data_dict['description'].append(card.find('p', attrs = {'class':'card-text'}).text)\n",
    "        \n",
    "\n"
   ]
  },
  {
   "cell_type": "code",
   "execution_count": 31,
   "metadata": {},
   "outputs": [
    {
     "data": {
      "text/html": [
       "<div>\n",
       "<style scoped>\n",
       "    .dataframe tbody tr th:only-of-type {\n",
       "        vertical-align: middle;\n",
       "    }\n",
       "\n",
       "    .dataframe tbody tr th {\n",
       "        vertical-align: top;\n",
       "    }\n",
       "\n",
       "    .dataframe thead th {\n",
       "        text-align: right;\n",
       "    }\n",
       "</style>\n",
       "<table border=\"1\" class=\"dataframe\">\n",
       "  <thead>\n",
       "    <tr style=\"text-align: right;\">\n",
       "      <th></th>\n",
       "      <th>place</th>\n",
       "      <th>location</th>\n",
       "      <th>description</th>\n",
       "    </tr>\n",
       "  </thead>\n",
       "  <tbody>\n",
       "    <tr>\n",
       "      <th>0</th>\n",
       "      <td>Elephanta Caves</td>\n",
       "      <td>mumbai</td>\n",
       "      <td>An UNESCO World Heritage Site, Elephanta Cave...</td>\n",
       "    </tr>\n",
       "    <tr>\n",
       "      <th>1</th>\n",
       "      <td>Marine Drive, Mumbai</td>\n",
       "      <td>mumbai</td>\n",
       "      <td>Starting from the north of Nariman Point and ...</td>\n",
       "    </tr>\n",
       "    <tr>\n",
       "      <th>2</th>\n",
       "      <td>Juhu Beach</td>\n",
       "      <td>mumbai</td>\n",
       "      <td>The most popular beach in Mumbai, Juhu beach ...</td>\n",
       "    </tr>\n",
       "    <tr>\n",
       "      <th>3</th>\n",
       "      <td>Colaba Causeway</td>\n",
       "      <td>mumbai</td>\n",
       "      <td>One of the most crowded and electrifying plac...</td>\n",
       "    </tr>\n",
       "    <tr>\n",
       "      <th>4</th>\n",
       "      <td>Gateway of India</td>\n",
       "      <td>mumbai</td>\n",
       "      <td>One of the most distinguished monument in Mum...</td>\n",
       "    </tr>\n",
       "    <tr>\n",
       "      <th>...</th>\n",
       "      <td>...</td>\n",
       "      <td>...</td>\n",
       "      <td>...</td>\n",
       "    </tr>\n",
       "    <tr>\n",
       "      <th>3210</th>\n",
       "      <td>Yak Safari</td>\n",
       "      <td>gangtok</td>\n",
       "      <td>Experiencing Yak Ride is one of the most esse...</td>\n",
       "    </tr>\n",
       "    <tr>\n",
       "      <th>3211</th>\n",
       "      <td>Mountain Biking in Gangtok</td>\n",
       "      <td>gangtok</td>\n",
       "      <td>Another one of the thrilling activities and t...</td>\n",
       "    </tr>\n",
       "    <tr>\n",
       "      <th>3212</th>\n",
       "      <td>9’ine Native Cuisine</td>\n",
       "      <td>gangtok</td>\n",
       "      <td>9’ine Native Cuisine is a dainty cafe located...</td>\n",
       "    </tr>\n",
       "    <tr>\n",
       "      <th>3213</th>\n",
       "      <td>Baker's Cafe</td>\n",
       "      <td>gangtok</td>\n",
       "      <td>Baker's Cafe is one of the most popular and p...</td>\n",
       "    </tr>\n",
       "    <tr>\n",
       "      <th>3214</th>\n",
       "      <td>Phodong Monastery</td>\n",
       "      <td>gangtok</td>\n",
       "      <td>Located in Phodong near Gangtok in Sikkim, Ph...</td>\n",
       "    </tr>\n",
       "  </tbody>\n",
       "</table>\n",
       "<p>3215 rows × 3 columns</p>\n",
       "</div>"
      ],
      "text/plain": [
       "                           place location  \\\n",
       "0                Elephanta Caves   mumbai   \n",
       "1           Marine Drive, Mumbai   mumbai   \n",
       "2                     Juhu Beach   mumbai   \n",
       "3                Colaba Causeway   mumbai   \n",
       "4               Gateway of India   mumbai   \n",
       "...                          ...      ...   \n",
       "3210                  Yak Safari  gangtok   \n",
       "3211  Mountain Biking in Gangtok  gangtok   \n",
       "3212        9’ine Native Cuisine  gangtok   \n",
       "3213                Baker's Cafe  gangtok   \n",
       "3214           Phodong Monastery  gangtok   \n",
       "\n",
       "                                            description  \n",
       "0      An UNESCO World Heritage Site, Elephanta Cave...  \n",
       "1      Starting from the north of Nariman Point and ...  \n",
       "2      The most popular beach in Mumbai, Juhu beach ...  \n",
       "3      One of the most crowded and electrifying plac...  \n",
       "4      One of the most distinguished monument in Mum...  \n",
       "...                                                 ...  \n",
       "3210   Experiencing Yak Ride is one of the most esse...  \n",
       "3211   Another one of the thrilling activities and t...  \n",
       "3212   9’ine Native Cuisine is a dainty cafe located...  \n",
       "3213   Baker's Cafe is one of the most popular and p...  \n",
       "3214   Located in Phodong near Gangtok in Sikkim, Ph...  \n",
       "\n",
       "[3215 rows x 3 columns]"
      ]
     },
     "execution_count": 31,
     "metadata": {},
     "output_type": "execute_result"
    }
   ],
   "source": [
    "places = pd.DataFrame(data_dict)\n",
    "\n",
    "places"
   ]
  },
  {
   "cell_type": "code",
   "execution_count": 33,
   "metadata": {},
   "outputs": [
    {
     "data": {
      "text/plain": [
       "[]"
      ]
     },
     "execution_count": 33,
     "metadata": {},
     "output_type": "execute_result"
    }
   ],
   "source": [
    "#Getting location data \n",
    "\n",
    "URL = 'https://www.google.com/search?q={}+latitude+and+longitude&client=opera&hs=ETW&sxsrf=AJOqlzVTXsc5PO1IscihNvz8yvfn07Bbkg%3A1677064148484&ei=1Pf1Y-GeHcKp4-EP4IKJ0A8&oq=Mumbai+latitude&gs_lcp=Cgxnd3Mtd2l6LXNlcnAQARgAMgoIABCABBBGEPsBMgUIABCABDIGCAAQFhAeMgkIABAWEB4Q8QQyCAgAEBYQHhAPMggIABAWEB4QDzIICAAQFhAeEA8yCQgAEBYQHhDxBDIGCAAQFhAeMgkIABAWEB4Q8QQ6CggAEEcQ1gQQsAM6BwgAELADEEM6DQgAEOQCENYEELADGAE6DwguENQCEMgDELADEEMYAjoMCC4QyAMQsAMQQxgCOgQIIxAnOgUIABCGAzoICAAQgAQQsQM6BAgAEAM6CAgAELEDEIMBOggILhCABBCxAzoQCC4QgAQQFBCHAhCxAxCDAToNCC4QgAQQFBCHAhCxAzoFCAAQkQI6BQguEJECOgsIABCABBCxAxCDAToQCAAQgAQQFBCHAhCxAxCDAUoECEEYAFCsAVi6JmDQMWgDcAB4AIABnAGIAeYOkgEEMC4xNJgBAKABAcgBE8ABAdoBBggBEAEYCdoBBggCEAEYCA&sclient=gws-wiz-serp'\n",
    "\n",
    "page = BeautifulSoup(\n",
    "    requests.get(\n",
    "        URL\n",
    "    ).content\n",
    ")\n",
    "\n",
    "page.find_all('div', attrs = {'class':'Z0LcW t2B5Cf'})"
   ]
  },
  {
   "cell_type": "code",
   "execution_count": 39,
   "metadata": {},
   "outputs": [],
   "source": [
    "URL = 'https://latitudelongitude.org/in/{}/'\n",
    "\n",
    "co_ord = {\n",
    "    'city':[], \n",
    "    'latitude':[], \n",
    "    'longitude':[]\n",
    "}\n",
    "\n",
    "count = 0\n",
    "for city in places:\n",
    "    SEARCH = URL.format(city)\n",
    "\n",
    "\n",
    "    lat_long = BeautifulSoup(\n",
    "        requests.get(\n",
    "            SEARCH, \n",
    "            headers = {\n",
    "                'User-Agent':'Mozilla/5.0 (Windows NT 10.0; Win64; x64) AppleWebKit/537.36 (KHTML, like Gecko) Chrome/110.0.0.0 Safari/537.36 OPR/95.0.4635.25'\n",
    "            }\n",
    "        ).content, \n",
    "    )\n",
    "    \n",
    "    try:\n",
    "\n",
    "        lat, long = lat_long.find(\n",
    "            'section', \n",
    "            attrs = {\n",
    "                'class':'intro'\n",
    "            }\n",
    "        ).find('span').text.split(',')\n",
    "\n",
    "    except Exception as e:\n",
    "        count += 1 \n",
    "        \n",
    "    co_ord['city'].append(city)\n",
    "    co_ord['latitude'].append(float(lat))\n",
    "    co_ord['longitude'].append(float(long))\n",
    "   \n",
    "\n"
   ]
  },
  {
   "cell_type": "code",
   "execution_count": 40,
   "metadata": {},
   "outputs": [],
   "source": [
    "cord = pd.DataFrame(co_ord)\n",
    "\n",
    "dataset = pd.merge(\n",
    "    left = places, \n",
    "    right = cord, \n",
    "    left_on = 'location', \n",
    "    right_on = 'city', \n",
    "    how = 'inner'\n",
    ").drop(\n",
    "    columns = [\n",
    "    'city'\n",
    "])"
   ]
  },
  {
   "cell_type": "code",
   "execution_count": 41,
   "metadata": {},
   "outputs": [],
   "source": [
    "dataset.to_csv('ds/places.csv', index = False )"
   ]
  },
  {
   "cell_type": "code",
   "execution_count": 42,
   "metadata": {},
   "outputs": [
    {
     "data": {
      "text/plain": [
       "array([], dtype=object)"
      ]
     },
     "execution_count": 42,
     "metadata": {},
     "output_type": "execute_result"
    }
   ],
   "source": [
    "dataset.loc[dataset.location == 'mumbai', 'place'].unique()"
   ]
  },
  {
   "cell_type": "code",
   "execution_count": 46,
   "metadata": {},
   "outputs": [],
   "source": [
    "places.to_csv('ds/places.csv', index = False )"
   ]
  },
  {
   "cell_type": "code",
   "execution_count": null,
   "metadata": {},
   "outputs": [],
   "source": []
  }
 ],
 "metadata": {
  "kernelspec": {
   "display_name": "ml",
   "language": "python",
   "name": "ml"
  },
  "language_info": {
   "codemirror_mode": {
    "name": "ipython",
    "version": 3
   },
   "file_extension": ".py",
   "mimetype": "text/x-python",
   "name": "python",
   "nbconvert_exporter": "python",
   "pygments_lexer": "ipython3",
   "version": "3.10.6"
  },
  "orig_nbformat": 4,
  "vscode": {
   "interpreter": {
    "hash": "63963b3f4c440940f0b94a3100916033a226cb4f45979123153792d60aa56d6a"
   }
  }
 },
 "nbformat": 4,
 "nbformat_minor": 2
}
